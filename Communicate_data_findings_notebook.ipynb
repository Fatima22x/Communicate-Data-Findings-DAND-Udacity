{
 "cells": [
  {
   "cell_type": "markdown",
   "metadata": {},
   "source": [
    "## Gather Data"
   ]
  },
  {
   "cell_type": "code",
   "execution_count": null,
   "metadata": {},
   "outputs": [],
   "source": [
    "import pandas as pd\n",
    "import numpy as np\n",
    "import matplotlib.pyplot as plt \n",
    "%matplotlib inline\n",
    "import seaborn as sns\n",
    "import plotly.graph_objects as go"
   ]
  },
  {
   "cell_type": "code",
   "execution_count": null,
   "metadata": {},
   "outputs": [],
   "source": [
    "# Covid-19 Dataset for Saudi Arabia taken from \n",
    "# King Abdullah Petroleum Studies and Research Center (KAPSARC) Website\n",
    "df = pd.read_csv('saudi-arabia-coronavirus-disease-covid-19-situation.csv', sep=';')"
   ]
  },
  {
   "cell_type": "markdown",
   "metadata": {},
   "source": [
    "#### First, investigate the dataset. We can see that the dataset is not ordered, and some columns need to be converted to more appropriate datatypes."
   ]
  },
  {
   "cell_type": "code",
   "execution_count": null,
   "metadata": {},
   "outputs": [],
   "source": [
    "df.shape"
   ]
  },
  {
   "cell_type": "code",
   "execution_count": null,
   "metadata": {},
   "outputs": [],
   "source": [
    "df.dtypes"
   ]
  },
  {
   "cell_type": "code",
   "execution_count": null,
   "metadata": {},
   "outputs": [],
   "source": [
    "df.head(10)"
   ]
  },
  {
   "cell_type": "code",
   "execution_count": null,
   "metadata": {},
   "outputs": [],
   "source": [
    "df.tail(10)"
   ]
  },
  {
   "cell_type": "code",
   "execution_count": null,
   "metadata": {},
   "outputs": [],
   "source": [
    "df.info()"
   ]
  },
  {
   "cell_type": "markdown",
   "metadata": {},
   "source": [
    "#### We can also find how many categorical variables are in our categorical columns using the value_counts() pandas function."
   ]
  },
  {
   "cell_type": "code",
   "execution_count": null,
   "metadata": {},
   "outputs": [],
   "source": [
    "df.Indicator.value_counts()"
   ]
  },
  {
   "cell_type": "code",
   "execution_count": null,
   "metadata": {},
   "outputs": [],
   "source": [
    "df.Event.value_counts()"
   ]
  },
  {
   "cell_type": "code",
   "execution_count": null,
   "metadata": {},
   "outputs": [],
   "source": [
    "df.City.value_counts()"
   ]
  },
  {
   "cell_type": "code",
   "execution_count": null,
   "metadata": {},
   "outputs": [],
   "source": [
    "df.region.value_counts()"
   ]
  },
  {
   "cell_type": "markdown",
   "metadata": {},
   "source": [
    "#### Find out any null values in any of the columns."
   ]
  },
  {
   "cell_type": "code",
   "execution_count": null,
   "metadata": {},
   "outputs": [],
   "source": [
    "df[df.region.isnull()]"
   ]
  },
  {
   "cell_type": "code",
   "execution_count": null,
   "metadata": {},
   "outputs": [],
   "source": [
    "df[df.City.isnull()]"
   ]
  },
  {
   "cell_type": "code",
   "execution_count": null,
   "metadata": {},
   "outputs": [],
   "source": [
    "df[df.Cases.isnull()]"
   ]
  },
  {
   "cell_type": "markdown",
   "metadata": {},
   "source": [
    "#### The null values seem to be critical cases in the 6 dates shown above, I'm going to remove them since I don't have any information on what region or city they're in. "
   ]
  },
  {
   "cell_type": "code",
   "execution_count": null,
   "metadata": {},
   "outputs": [],
   "source": [
    "df.duplicated()"
   ]
  },
  {
   "cell_type": "markdown",
   "metadata": {},
   "source": [
    "#### There seems to be no duplicates in the dataset."
   ]
  },
  {
   "cell_type": "markdown",
   "metadata": {},
   "source": [
    "## Clean Dataset"
   ]
  },
  {
   "cell_type": "markdown",
   "metadata": {},
   "source": [
    "1. Replace NaN's in Event column with 'No Event'.\n",
    "2. Convert Date column to datetime object.\n",
    "3. Convert Cases column to int datatype.\n",
    "4. Rename 'Daily / Cumulative' to Daily_Cumulative\n",
    "5. Rename region column to Region.\n",
    "6. Drop null columns in [Region, City, Cases].\n",
    "7. Sort data by Date (ascending)."
   ]
  },
  {
   "cell_type": "code",
   "execution_count": null,
   "metadata": {},
   "outputs": [],
   "source": [
    "# Make copy of dataframe.\n",
    "df_clean = df.copy()"
   ]
  },
  {
   "cell_type": "code",
   "execution_count": null,
   "metadata": {},
   "outputs": [],
   "source": [
    "# 1. Replace NaN's in Event column with 'No Event'.\n",
    "df_clean.Event.fillna('No Event', inplace=True)"
   ]
  },
  {
   "cell_type": "code",
   "execution_count": null,
   "metadata": {},
   "outputs": [],
   "source": [
    "# 2. Convert Date column to datetime object.\n",
    "pd.to_datetime(df_clean.Date)"
   ]
  },
  {
   "cell_type": "code",
   "execution_count": null,
   "metadata": {},
   "outputs": [],
   "source": [
    "# 3. Convert Cases column to int datatype.\n",
    "df_clean.Cases = df_clean.Cases.astype(int)"
   ]
  },
  {
   "cell_type": "code",
   "execution_count": null,
   "metadata": {},
   "outputs": [],
   "source": [
    "# 4. Rename 'Daily / Cumulative' to Daily_Cumulative\n",
    "df_clean.rename(columns={'Daily / Cumulative': 'Daily_Cumulative'}, inplace=True)"
   ]
  },
  {
   "cell_type": "code",
   "execution_count": null,
   "metadata": {},
   "outputs": [],
   "source": [
    "# 5. Rename region column to Region.\n",
    "df_clean.rename(columns={'region': 'Region'}, inplace=True)"
   ]
  },
  {
   "cell_type": "code",
   "execution_count": null,
   "metadata": {},
   "outputs": [],
   "source": [
    "# 6. Drop null columns in [Region, City, Cases].\n",
    "df_clean = df_clean.dropna(subset=['Cases'])"
   ]
  },
  {
   "cell_type": "code",
   "execution_count": null,
   "metadata": {},
   "outputs": [],
   "source": [
    "# 7. Sort data by Date (ascending).\n",
    "df_clean.sort_values(by=['Date'], inplace=True, ascending=True)"
   ]
  },
  {
   "cell_type": "code",
   "execution_count": null,
   "metadata": {},
   "outputs": [],
   "source": [
    "df_clean.info()"
   ]
  },
  {
   "cell_type": "code",
   "execution_count": null,
   "metadata": {},
   "outputs": [],
   "source": [
    "df_clean"
   ]
  },
  {
   "cell_type": "markdown",
   "metadata": {},
   "source": [
    "## Exploratory Analysis"
   ]
  },
  {
   "cell_type": "markdown",
   "metadata": {},
   "source": [
    "### Univariate Exploration"
   ]
  },
  {
   "cell_type": "markdown",
   "metadata": {},
   "source": [
    "To start off the exploratory analysis, I made two count plots of the Region and Indicator columns. This just shows how much of each of these categorical column have of each value. Since the number of cases differs for each row, it's not an accurate indication of any insights on the dataset. "
   ]
  },
  {
   "cell_type": "markdown",
   "metadata": {},
   "source": [
    "- The Region count plot shows us that there's 13 Saudi regions, in addition to the Total column which makes 14 values. The 3 regions with the highest values in the dataset are Riyadh, Eastern Region and Mecca. \n",
    "- The Indicator count plot shows us that there's 5 indicators, Starting with Cases, Recoveries, Active cases, Mortalities and lastly Critical cases. This seems to be a good indication of Recovery rate being high, and Critical cases being relatively low in the country."
   ]
  },
  {
   "cell_type": "code",
   "execution_count": null,
   "metadata": {},
   "outputs": [],
   "source": [
    "fig, ax = plt.subplots(nrows=2, figsize = [16,16])\n",
    "sns.set(style='whitegrid')\n",
    "sns.countplot(data = df_clean, x = 'Region', order = df_clean['Region'].value_counts().index, ax = ax[0])\n",
    "sns.countplot(data = df_clean, x = 'Indicator', order = df_clean['Indicator'].value_counts().index, ax = ax[1])\n",
    "\n",
    "plt.show()"
   ]
  },
  {
   "cell_type": "markdown",
   "metadata": {},
   "source": [
    "### Bivariate Exploration"
   ]
  },
  {
   "cell_type": "markdown",
   "metadata": {},
   "source": [
    "For the bivariate exploration, I made graphs of the total cases and active cases up to the latest date available in the dataset which is the 5th of August."
   ]
  },
  {
   "cell_type": "markdown",
   "metadata": {},
   "source": [
    "- This graph only shows the cities in the Mecca region, as of the 5th of August, Jeddah has the most Active cases of Covid-19, with 3675 cases. Mecca is second and has 1584 cases, Taif has 872. You can also zoom in the graph to see that Hadda with the least active cases only has 1 case."
   ]
  },
  {
   "cell_type": "code",
   "execution_count": null,
   "metadata": {},
   "outputs": [],
   "source": [
    "data = df_clean[df_clean.Region != \"Total\"]\n",
    "data = data[data.Region == \"Mecca\"]\n",
    "data = data[data.Indicator == \"Active cases\"]\n",
    "data = data[data.Date == \"2020-08-05\"]\n",
    "fig = px.bar(data, x=\"City\", y=\"Cases\", title=\"Total Active Cases in Makkah Region - 5th August 2020\", template=\"plotly_white\")\n",
    "fig.update_layout(xaxis={'categoryorder':'total descending'})\n",
    "fig.show()"
   ]
  },
  {
   "cell_type": "markdown",
   "metadata": {},
   "source": [
    "- This graph shows the cumulative number of cases of Covid-19 up until the latest date in the dataset, which is the 5th of August. Similiar to our univariate count plot, the regions in the top 3 spots are Mecca, Eastern Region and Riyadh, although their order differs. Mecca and Eastern Region alone take up half the pie graph, meaning that half the cases in the country up until the 5th of August are in those 2 regions."
   ]
  },
  {
   "cell_type": "code",
   "execution_count": null,
   "metadata": {},
   "outputs": [],
   "source": [
    "data = df_clean.query(\"Daily_Cumulative=='Cumulative'\")\n",
    "data = data.query(\"Indicator=='Cases'\")\n",
    "data = data[data.Date == \"2020-08-05\"]\n",
    "data = data[data.Region != \"Total\"]\n",
    "fig = px.pie(data, values='Cases', names='Region', title='Total Cases by Region - 5th August 2020')\n",
    "fig.show()"
   ]
  },
  {
   "cell_type": "markdown",
   "metadata": {},
   "source": [
    "### Multivariate Exploration"
   ]
  },
  {
   "cell_type": "markdown",
   "metadata": {},
   "source": [
    "I used the Indicator column on various graphs for my multivariate exploration. The Indicator column has 5 values.\n",
    "1. Active cases\n",
    "2. Cases\n",
    "3. Recoveries\n",
    "4. Mortalities\n",
    "5. Critical cases"
   ]
  },
  {
   "cell_type": "markdown",
   "metadata": {},
   "source": [
    "- The following Graph shows the total number of cases for each indicator, from the start of the first case of Covid-19 in the 2nd of March 2020, up until the latest date in the dataset which is the 5th of August. Recovery rates have been higher than the active cases since the 17th of May 2020. We can also see that Mortalities and Critical cases have been relatively low, which is the same as the count plots in the univariate exploration. "
   ]
  },
  {
   "cell_type": "code",
   "execution_count": null,
   "metadata": {},
   "outputs": [],
   "source": [
    "data = df_clean.query(\"City=='Total'\")\n",
    "data = data.query(\"Daily_Cumulative=='Cumulative'\")\n",
    "fig = px.line(data, x=\"Date\", y=\"Cases\", title='Total Cases in Saudi Arabia ', color='Indicator', template=\"plotly_white\")\n",
    "fig.show()"
   ]
  },
  {
   "cell_type": "markdown",
   "metadata": {},
   "source": [
    "- In the following bubble chart are July 2020's cases of Covid-19. The size of the bubble is determined by the number of total cases in each of the 3 indicators which are Cases, Recoveries and Mortalities. The Active cases indicator seems to not be present in July, the Cases indicator seems to have replaced it. The highest recovery count for one day was on the 13th of July 2020 with 7718 recoveries made in one day."
   ]
  },
  {
   "cell_type": "code",
   "execution_count": null,
   "metadata": {},
   "outputs": [],
   "source": [
    "data = df_clean.query(\"City=='Total'\")\n",
    "data = data.query(\"Daily_Cumulative=='Daily'\")\n",
    "fig = px.scatter(data, x=\"Date\", y=\"Cases\", size=\"Cases\", size_max=30, title='Daily Cases in Saudi Arabia in July 2020', color='Indicator', template=\"plotly_white\", range_x=['2020-07-01','2020-07-31'])\n",
    "fig.show()"
   ]
  },
  {
   "cell_type": "markdown",
   "metadata": {},
   "source": [
    "- In the dataset, there was an Event column indicating if any event happened like for example the start or end of curfew for some regions or cities. I plotted this with the number of daily cases to see if any event had an impact in the number of daily cases. I noticed a spike in cases after the partial lifting of curfew in all cities except Makkah and after curfew lifted in all regions. The cases have been gradually decreasing since the 7th of July."
   ]
  },
  {
   "cell_type": "code",
   "execution_count": null,
   "metadata": {},
   "outputs": [],
   "source": [
    "data = df_clean.query(\"City=='Total'\")\n",
    "data = data.query(\"Indicator=='Cases'\")\n",
    "data = data.query(\"Daily_Cumulative=='Daily'\")\n",
    "fig = px.line(data, x=\"Date\", y=\"Cases\", title='Daily Cases in Saudi Arabia in July 2020', template=\"plotly_white\")\n",
    "event = data.query(\"Event!='No Event'\")\n",
    "x_val = event.Date\n",
    "y_val = event.Cases\n",
    "\n",
    "hover_text= (event.Event).to_numpy()\n",
    "fig.add_trace(go.Scatter(x=x_val, y=y_val,\n",
    "                    mode='markers',\n",
    "                    name='Event',\n",
    "                    hovertext = hover_text,\n",
    "                    hoverinfo=\"text\",\n",
    "                    showlegend=True))\n",
    "fig.show()"
   ]
  }
 ],
 "metadata": {
  "kernelspec": {
   "display_name": "Python 3",
   "language": "python",
   "name": "python3"
  }
 },
 "nbformat": 4,
 "nbformat_minor": 4
}
