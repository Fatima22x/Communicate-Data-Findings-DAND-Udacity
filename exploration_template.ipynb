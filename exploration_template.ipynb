{
 "cells": [
  {
   "cell_type": "markdown",
   "metadata": {},
   "source": [
    "## Gather Data"
   ]
  },
  {
   "cell_type": "code",
   "execution_count": 1,
   "metadata": {},
   "outputs": [],
   "source": [
    "import pandas as pd\n",
    "import numpy as np\n",
    "import matplotlib.pyplot as plt \n",
    "%matplotlib inline\n",
    "import seaborn as sns\n",
    "import plotly.express as px\n",
    "import plotly.graph_objects as go"
   ]
  },
  {
   "cell_type": "code",
   "execution_count": 2,
   "metadata": {},
   "outputs": [],
   "source": [
    "# Covid-19 Dataset for Saudi Arabia taken from \n",
    "# King Abdullah Petroleum Studies and Research Center (KAPSARC) Website\n",
    "df = pd.read_csv('saudi-arabia-coronavirus-disease-covid-19-situation.csv', sep=';')"
   ]
  },
  {
   "cell_type": "markdown",
   "metadata": {},
   "source": [
    "#### First, investigate the dataset. We can see that the dataset is not ordered, and some columns need to be converted to more appropriate datatypes."
   ]
  },
  {
   "cell_type": "code",
   "execution_count": 3,
   "metadata": {},
   "outputs": [
    {
     "data": {
      "text/plain": [
       "(77987, 7)"
      ]
     },
     "execution_count": 3,
     "metadata": {},
     "output_type": "execute_result"
    }
   ],
   "source": [
    "df.shape"
   ]
  },
  {
   "cell_type": "code",
   "execution_count": 4,
   "metadata": {},
   "outputs": [
    {
     "data": {
      "text/plain": [
       "Daily / Cumulative     object\n",
       "Indicator              object\n",
       "Date                   object\n",
       "Event                  object\n",
       "region                 object\n",
       "City                   object\n",
       "Cases                 float64\n",
       "dtype: object"
      ]
     },
     "execution_count": 4,
     "metadata": {},
     "output_type": "execute_result"
    }
   ],
   "source": [
    "df.dtypes"
   ]
  },
  {
   "cell_type": "code",
   "execution_count": 5,
   "metadata": {},
   "outputs": [
    {
     "data": {
      "text/html": [
       "<div>\n",
       "<style scoped>\n",
       "    .dataframe tbody tr th:only-of-type {\n",
       "        vertical-align: middle;\n",
       "    }\n",
       "\n",
       "    .dataframe tbody tr th {\n",
       "        vertical-align: top;\n",
       "    }\n",
       "\n",
       "    .dataframe thead th {\n",
       "        text-align: right;\n",
       "    }\n",
       "</style>\n",
       "<table border=\"1\" class=\"dataframe\">\n",
       "  <thead>\n",
       "    <tr style=\"text-align: right;\">\n",
       "      <th></th>\n",
       "      <th>Daily / Cumulative</th>\n",
       "      <th>Indicator</th>\n",
       "      <th>Date</th>\n",
       "      <th>Event</th>\n",
       "      <th>region</th>\n",
       "      <th>City</th>\n",
       "      <th>Cases</th>\n",
       "    </tr>\n",
       "  </thead>\n",
       "  <tbody>\n",
       "    <tr>\n",
       "      <th>0</th>\n",
       "      <td>Cumulative</td>\n",
       "      <td>Recoveries</td>\n",
       "      <td>2020-05-20</td>\n",
       "      <td>NaN</td>\n",
       "      <td>Northern Borders</td>\n",
       "      <td>Al Judayyidah</td>\n",
       "      <td>2.0</td>\n",
       "    </tr>\n",
       "    <tr>\n",
       "      <th>1</th>\n",
       "      <td>Cumulative</td>\n",
       "      <td>Recoveries</td>\n",
       "      <td>2020-05-20</td>\n",
       "      <td>NaN</td>\n",
       "      <td>Mecca</td>\n",
       "      <td>Umm Aldoom</td>\n",
       "      <td>1.0</td>\n",
       "    </tr>\n",
       "    <tr>\n",
       "      <th>2</th>\n",
       "      <td>Cumulative</td>\n",
       "      <td>Recoveries</td>\n",
       "      <td>2020-05-20</td>\n",
       "      <td>NaN</td>\n",
       "      <td>Eastern Region</td>\n",
       "      <td>Nairyah</td>\n",
       "      <td>38.0</td>\n",
       "    </tr>\n",
       "    <tr>\n",
       "      <th>3</th>\n",
       "      <td>Cumulative</td>\n",
       "      <td>Recoveries</td>\n",
       "      <td>2020-05-20</td>\n",
       "      <td>NaN</td>\n",
       "      <td>Medina</td>\n",
       "      <td>Mahd Al Dhahab</td>\n",
       "      <td>3.0</td>\n",
       "    </tr>\n",
       "    <tr>\n",
       "      <th>4</th>\n",
       "      <td>Cumulative</td>\n",
       "      <td>Recoveries</td>\n",
       "      <td>2020-05-20</td>\n",
       "      <td>NaN</td>\n",
       "      <td>Riyadh</td>\n",
       "      <td>Howtat Bani Tamim</td>\n",
       "      <td>7.0</td>\n",
       "    </tr>\n",
       "    <tr>\n",
       "      <th>5</th>\n",
       "      <td>Cumulative</td>\n",
       "      <td>Recoveries</td>\n",
       "      <td>2020-05-20</td>\n",
       "      <td>NaN</td>\n",
       "      <td>Asir</td>\n",
       "      <td>Khamis Mushait</td>\n",
       "      <td>92.0</td>\n",
       "    </tr>\n",
       "    <tr>\n",
       "      <th>6</th>\n",
       "      <td>Cumulative</td>\n",
       "      <td>Recoveries</td>\n",
       "      <td>2020-05-20</td>\n",
       "      <td>NaN</td>\n",
       "      <td>Al Jouf</td>\n",
       "      <td>Al Hadithah Border Station</td>\n",
       "      <td>17.0</td>\n",
       "    </tr>\n",
       "    <tr>\n",
       "      <th>7</th>\n",
       "      <td>Cumulative</td>\n",
       "      <td>Recoveries</td>\n",
       "      <td>2020-05-20</td>\n",
       "      <td>NaN</td>\n",
       "      <td>Asir</td>\n",
       "      <td>Bisha</td>\n",
       "      <td>69.0</td>\n",
       "    </tr>\n",
       "    <tr>\n",
       "      <th>8</th>\n",
       "      <td>Cumulative</td>\n",
       "      <td>Recoveries</td>\n",
       "      <td>2020-05-20</td>\n",
       "      <td>NaN</td>\n",
       "      <td>Eastern Region</td>\n",
       "      <td>Bqeeq</td>\n",
       "      <td>29.0</td>\n",
       "    </tr>\n",
       "    <tr>\n",
       "      <th>9</th>\n",
       "      <td>Cumulative</td>\n",
       "      <td>Recoveries</td>\n",
       "      <td>2020-05-20</td>\n",
       "      <td>NaN</td>\n",
       "      <td>Jazan</td>\n",
       "      <td>Jazan</td>\n",
       "      <td>59.0</td>\n",
       "    </tr>\n",
       "  </tbody>\n",
       "</table>\n",
       "</div>"
      ],
      "text/plain": [
       "  Daily / Cumulative   Indicator        Date Event            region  \\\n",
       "0         Cumulative  Recoveries  2020-05-20   NaN  Northern Borders   \n",
       "1         Cumulative  Recoveries  2020-05-20   NaN             Mecca   \n",
       "2         Cumulative  Recoveries  2020-05-20   NaN    Eastern Region   \n",
       "3         Cumulative  Recoveries  2020-05-20   NaN            Medina   \n",
       "4         Cumulative  Recoveries  2020-05-20   NaN            Riyadh   \n",
       "5         Cumulative  Recoveries  2020-05-20   NaN              Asir   \n",
       "6         Cumulative  Recoveries  2020-05-20   NaN           Al Jouf   \n",
       "7         Cumulative  Recoveries  2020-05-20   NaN              Asir   \n",
       "8         Cumulative  Recoveries  2020-05-20   NaN    Eastern Region   \n",
       "9         Cumulative  Recoveries  2020-05-20   NaN             Jazan   \n",
       "\n",
       "                         City  Cases  \n",
       "0               Al Judayyidah    2.0  \n",
       "1                  Umm Aldoom    1.0  \n",
       "2                     Nairyah   38.0  \n",
       "3              Mahd Al Dhahab    3.0  \n",
       "4           Howtat Bani Tamim    7.0  \n",
       "5              Khamis Mushait   92.0  \n",
       "6  Al Hadithah Border Station   17.0  \n",
       "7                       Bisha   69.0  \n",
       "8                       Bqeeq   29.0  \n",
       "9                       Jazan   59.0  "
      ]
     },
     "execution_count": 5,
     "metadata": {},
     "output_type": "execute_result"
    }
   ],
   "source": [
    "df.head(10)"
   ]
  },
  {
   "cell_type": "code",
   "execution_count": 6,
   "metadata": {},
   "outputs": [
    {
     "data": {
      "text/html": [
       "<div>\n",
       "<style scoped>\n",
       "    .dataframe tbody tr th:only-of-type {\n",
       "        vertical-align: middle;\n",
       "    }\n",
       "\n",
       "    .dataframe tbody tr th {\n",
       "        vertical-align: top;\n",
       "    }\n",
       "\n",
       "    .dataframe thead th {\n",
       "        text-align: right;\n",
       "    }\n",
       "</style>\n",
       "<table border=\"1\" class=\"dataframe\">\n",
       "  <thead>\n",
       "    <tr style=\"text-align: right;\">\n",
       "      <th></th>\n",
       "      <th>Daily / Cumulative</th>\n",
       "      <th>Indicator</th>\n",
       "      <th>Date</th>\n",
       "      <th>Event</th>\n",
       "      <th>region</th>\n",
       "      <th>City</th>\n",
       "      <th>Cases</th>\n",
       "    </tr>\n",
       "  </thead>\n",
       "  <tbody>\n",
       "    <tr>\n",
       "      <th>77977</th>\n",
       "      <td>Cumulative</td>\n",
       "      <td>Critical cases</td>\n",
       "      <td>2020-06-19</td>\n",
       "      <td>NaN</td>\n",
       "      <td>Total</td>\n",
       "      <td>Total</td>\n",
       "      <td>1955.0</td>\n",
       "    </tr>\n",
       "    <tr>\n",
       "      <th>77978</th>\n",
       "      <td>Cumulative</td>\n",
       "      <td>Critical cases</td>\n",
       "      <td>2020-06-25</td>\n",
       "      <td>NaN</td>\n",
       "      <td>Total</td>\n",
       "      <td>Total</td>\n",
       "      <td>2273.0</td>\n",
       "    </tr>\n",
       "    <tr>\n",
       "      <th>77979</th>\n",
       "      <td>Cumulative</td>\n",
       "      <td>Critical cases</td>\n",
       "      <td>2020-06-28</td>\n",
       "      <td>NaN</td>\n",
       "      <td>Total</td>\n",
       "      <td>Total</td>\n",
       "      <td>2285.0</td>\n",
       "    </tr>\n",
       "    <tr>\n",
       "      <th>77980</th>\n",
       "      <td>Cumulative</td>\n",
       "      <td>Critical cases</td>\n",
       "      <td>2020-07-07</td>\n",
       "      <td>NaN</td>\n",
       "      <td>Total</td>\n",
       "      <td>Total</td>\n",
       "      <td>2263.0</td>\n",
       "    </tr>\n",
       "    <tr>\n",
       "      <th>77981</th>\n",
       "      <td>Cumulative</td>\n",
       "      <td>Critical cases</td>\n",
       "      <td>2020-07-10</td>\n",
       "      <td>NaN</td>\n",
       "      <td>Total</td>\n",
       "      <td>Total</td>\n",
       "      <td>2230.0</td>\n",
       "    </tr>\n",
       "    <tr>\n",
       "      <th>77982</th>\n",
       "      <td>Cumulative</td>\n",
       "      <td>Critical cases</td>\n",
       "      <td>2020-07-11</td>\n",
       "      <td>NaN</td>\n",
       "      <td>Total</td>\n",
       "      <td>Total</td>\n",
       "      <td>2223.0</td>\n",
       "    </tr>\n",
       "    <tr>\n",
       "      <th>77983</th>\n",
       "      <td>Cumulative</td>\n",
       "      <td>Critical cases</td>\n",
       "      <td>2020-07-12</td>\n",
       "      <td>NaN</td>\n",
       "      <td>Total</td>\n",
       "      <td>Total</td>\n",
       "      <td>2235.0</td>\n",
       "    </tr>\n",
       "    <tr>\n",
       "      <th>77984</th>\n",
       "      <td>Cumulative</td>\n",
       "      <td>Critical cases</td>\n",
       "      <td>2020-07-13</td>\n",
       "      <td>NaN</td>\n",
       "      <td>Total</td>\n",
       "      <td>Total</td>\n",
       "      <td>2230.0</td>\n",
       "    </tr>\n",
       "    <tr>\n",
       "      <th>77985</th>\n",
       "      <td>Cumulative</td>\n",
       "      <td>Critical cases</td>\n",
       "      <td>2020-07-28</td>\n",
       "      <td>NaN</td>\n",
       "      <td>Total</td>\n",
       "      <td>Total</td>\n",
       "      <td>2063.0</td>\n",
       "    </tr>\n",
       "    <tr>\n",
       "      <th>77986</th>\n",
       "      <td>Cumulative</td>\n",
       "      <td>Critical cases</td>\n",
       "      <td>2020-08-05</td>\n",
       "      <td>NaN</td>\n",
       "      <td>Total</td>\n",
       "      <td>Total</td>\n",
       "      <td>1992.0</td>\n",
       "    </tr>\n",
       "  </tbody>\n",
       "</table>\n",
       "</div>"
      ],
      "text/plain": [
       "      Daily / Cumulative       Indicator        Date Event region   City  \\\n",
       "77977         Cumulative  Critical cases  2020-06-19   NaN  Total  Total   \n",
       "77978         Cumulative  Critical cases  2020-06-25   NaN  Total  Total   \n",
       "77979         Cumulative  Critical cases  2020-06-28   NaN  Total  Total   \n",
       "77980         Cumulative  Critical cases  2020-07-07   NaN  Total  Total   \n",
       "77981         Cumulative  Critical cases  2020-07-10   NaN  Total  Total   \n",
       "77982         Cumulative  Critical cases  2020-07-11   NaN  Total  Total   \n",
       "77983         Cumulative  Critical cases  2020-07-12   NaN  Total  Total   \n",
       "77984         Cumulative  Critical cases  2020-07-13   NaN  Total  Total   \n",
       "77985         Cumulative  Critical cases  2020-07-28   NaN  Total  Total   \n",
       "77986         Cumulative  Critical cases  2020-08-05   NaN  Total  Total   \n",
       "\n",
       "        Cases  \n",
       "77977  1955.0  \n",
       "77978  2273.0  \n",
       "77979  2285.0  \n",
       "77980  2263.0  \n",
       "77981  2230.0  \n",
       "77982  2223.0  \n",
       "77983  2235.0  \n",
       "77984  2230.0  \n",
       "77985  2063.0  \n",
       "77986  1992.0  "
      ]
     },
     "execution_count": 6,
     "metadata": {},
     "output_type": "execute_result"
    }
   ],
   "source": [
    "df.tail(10)"
   ]
  },
  {
   "cell_type": "code",
   "execution_count": 7,
   "metadata": {},
   "outputs": [
    {
     "name": "stdout",
     "output_type": "stream",
     "text": [
      "<class 'pandas.core.frame.DataFrame'>\n",
      "RangeIndex: 77987 entries, 0 to 77986\n",
      "Data columns (total 7 columns):\n",
      " #   Column              Non-Null Count  Dtype  \n",
      "---  ------              --------------  -----  \n",
      " 0   Daily / Cumulative  77987 non-null  object \n",
      " 1   Indicator           77987 non-null  object \n",
      " 2   Date                77987 non-null  object \n",
      " 3   Event               281 non-null    object \n",
      " 4   region              77981 non-null  object \n",
      " 5   City                77981 non-null  object \n",
      " 6   Cases               77981 non-null  float64\n",
      "dtypes: float64(1), object(6)\n",
      "memory usage: 4.2+ MB\n"
     ]
    }
   ],
   "source": [
    "df.info()"
   ]
  },
  {
   "cell_type": "markdown",
   "metadata": {},
   "source": [
    "#### We can also find how many categorical variables are in our categorical columns using the value_counts() pandas function."
   ]
  },
  {
   "cell_type": "code",
   "execution_count": 8,
   "metadata": {},
   "outputs": [
    {
     "data": {
      "text/plain": [
       "Cases             29804\n",
       "Recoveries        24510\n",
       "Active cases      18367\n",
       "Mortalities        5188\n",
       "Critical cases      118\n",
       "Name: Indicator, dtype: int64"
      ]
     },
     "execution_count": 8,
     "metadata": {},
     "output_type": "execute_result"
    }
   ],
   "source": [
    "df.Indicator.value_counts()"
   ]
  },
  {
   "cell_type": "code",
   "execution_count": 9,
   "metadata": {},
   "outputs": [
    {
     "data": {
      "text/plain": [
       "Curfew lifted (all regions)                                                       117\n",
       "Partial lifting of curfew in all cities except Makkah                              28\n",
       "Jeddah areas lockdown - 24 h curfew                                                19\n",
       "Makkah lockdown                                                                    18\n",
       "Riyadh, Dammam , Tabuk , Dahran, Hafuf, Jeddah, Taif, Qatif , Khobar24h curfew     18\n",
       "Makkah , Madinah 24 hours curfew                                                   15\n",
       "Jeddah lockdown                                                                    15\n",
       "Riyadh, Makkah and Madinah lockdown - curfew (6am - 3pm)                           13\n",
       "Curfew started for 21 days (6am -7 pm)                                             10\n",
       "Domestic flights suspension                                                         8\n",
       "Gov / private suspension                                                            7\n",
       "International flights suspension for 14 days                                        6\n",
       "flights suspended to number of countries                                            3\n",
       "Umrah suspension                                                                    2\n",
       "First case of COVID-19                                                              2\n",
       "Name: Event, dtype: int64"
      ]
     },
     "execution_count": 9,
     "metadata": {},
     "output_type": "execute_result"
    }
   ],
   "source": [
    "df.Event.value_counts()"
   ]
  },
  {
   "cell_type": "code",
   "execution_count": 10,
   "metadata": {},
   "outputs": [
    {
     "data": {
      "text/plain": [
       "Total        1137\n",
       "Jeddah        951\n",
       "Mecca         946\n",
       "Riyadh        936\n",
       "Dammam        885\n",
       "             ... \n",
       "Samira         83\n",
       "Suwayr         73\n",
       "Al Gatt        59\n",
       "Al Hajrah      36\n",
       "Abu Raka       11\n",
       "Name: City, Length: 205, dtype: int64"
      ]
     },
     "execution_count": 10,
     "metadata": {},
     "output_type": "execute_result"
    }
   ],
   "source": [
    "df.City.value_counts()"
   ]
  },
  {
   "cell_type": "code",
   "execution_count": 11,
   "metadata": {},
   "outputs": [
    {
     "data": {
      "text/plain": [
       "Riyadh              12480\n",
       "Eastern Region      12090\n",
       "Mecca               11200\n",
       "Asir                 9522\n",
       "Jazan                6571\n",
       "Qassim               5910\n",
       "Medina               3633\n",
       "Tabuk                3326\n",
       "Al Bahah             3113\n",
       "Hail                 2439\n",
       "Najran               2365\n",
       "Northern Borders     2320\n",
       "Al Jouf              1875\n",
       "Total                1137\n",
       "Name: region, dtype: int64"
      ]
     },
     "execution_count": 11,
     "metadata": {},
     "output_type": "execute_result"
    }
   ],
   "source": [
    "df.region.value_counts()"
   ]
  },
  {
   "cell_type": "markdown",
   "metadata": {},
   "source": [
    "#### Find out any null values in any of the columns."
   ]
  },
  {
   "cell_type": "code",
   "execution_count": 12,
   "metadata": {},
   "outputs": [
    {
     "data": {
      "text/html": [
       "<div>\n",
       "<style scoped>\n",
       "    .dataframe tbody tr th:only-of-type {\n",
       "        vertical-align: middle;\n",
       "    }\n",
       "\n",
       "    .dataframe tbody tr th {\n",
       "        vertical-align: top;\n",
       "    }\n",
       "\n",
       "    .dataframe thead th {\n",
       "        text-align: right;\n",
       "    }\n",
       "</style>\n",
       "<table border=\"1\" class=\"dataframe\">\n",
       "  <thead>\n",
       "    <tr style=\"text-align: right;\">\n",
       "      <th></th>\n",
       "      <th>Daily / Cumulative</th>\n",
       "      <th>Indicator</th>\n",
       "      <th>Date</th>\n",
       "      <th>Event</th>\n",
       "      <th>region</th>\n",
       "      <th>City</th>\n",
       "      <th>Cases</th>\n",
       "    </tr>\n",
       "  </thead>\n",
       "  <tbody>\n",
       "    <tr>\n",
       "      <th>5493</th>\n",
       "      <td>Cumulative</td>\n",
       "      <td>Critical cases</td>\n",
       "      <td>2020-05-27</td>\n",
       "      <td>NaN</td>\n",
       "      <td>NaN</td>\n",
       "      <td>NaN</td>\n",
       "      <td>NaN</td>\n",
       "    </tr>\n",
       "    <tr>\n",
       "      <th>5494</th>\n",
       "      <td>Cumulative</td>\n",
       "      <td>Critical cases</td>\n",
       "      <td>2020-05-31</td>\n",
       "      <td>NaN</td>\n",
       "      <td>NaN</td>\n",
       "      <td>NaN</td>\n",
       "      <td>NaN</td>\n",
       "    </tr>\n",
       "    <tr>\n",
       "      <th>31112</th>\n",
       "      <td>Cumulative</td>\n",
       "      <td>Critical cases</td>\n",
       "      <td>2020-05-29</td>\n",
       "      <td>NaN</td>\n",
       "      <td>NaN</td>\n",
       "      <td>NaN</td>\n",
       "      <td>NaN</td>\n",
       "    </tr>\n",
       "    <tr>\n",
       "      <th>46802</th>\n",
       "      <td>Cumulative</td>\n",
       "      <td>Critical cases</td>\n",
       "      <td>2020-05-28</td>\n",
       "      <td>NaN</td>\n",
       "      <td>NaN</td>\n",
       "      <td>NaN</td>\n",
       "      <td>NaN</td>\n",
       "    </tr>\n",
       "    <tr>\n",
       "      <th>60505</th>\n",
       "      <td>Cumulative</td>\n",
       "      <td>Critical cases</td>\n",
       "      <td>2020-05-26</td>\n",
       "      <td>NaN</td>\n",
       "      <td>NaN</td>\n",
       "      <td>NaN</td>\n",
       "      <td>NaN</td>\n",
       "    </tr>\n",
       "    <tr>\n",
       "      <th>60506</th>\n",
       "      <td>Cumulative</td>\n",
       "      <td>Critical cases</td>\n",
       "      <td>2020-05-30</td>\n",
       "      <td>NaN</td>\n",
       "      <td>NaN</td>\n",
       "      <td>NaN</td>\n",
       "      <td>NaN</td>\n",
       "    </tr>\n",
       "  </tbody>\n",
       "</table>\n",
       "</div>"
      ],
      "text/plain": [
       "      Daily / Cumulative       Indicator        Date Event region City  Cases\n",
       "5493          Cumulative  Critical cases  2020-05-27   NaN    NaN  NaN    NaN\n",
       "5494          Cumulative  Critical cases  2020-05-31   NaN    NaN  NaN    NaN\n",
       "31112         Cumulative  Critical cases  2020-05-29   NaN    NaN  NaN    NaN\n",
       "46802         Cumulative  Critical cases  2020-05-28   NaN    NaN  NaN    NaN\n",
       "60505         Cumulative  Critical cases  2020-05-26   NaN    NaN  NaN    NaN\n",
       "60506         Cumulative  Critical cases  2020-05-30   NaN    NaN  NaN    NaN"
      ]
     },
     "execution_count": 12,
     "metadata": {},
     "output_type": "execute_result"
    }
   ],
   "source": [
    "df[df.region.isnull()]"
   ]
  },
  {
   "cell_type": "code",
   "execution_count": 13,
   "metadata": {},
   "outputs": [
    {
     "data": {
      "text/html": [
       "<div>\n",
       "<style scoped>\n",
       "    .dataframe tbody tr th:only-of-type {\n",
       "        vertical-align: middle;\n",
       "    }\n",
       "\n",
       "    .dataframe tbody tr th {\n",
       "        vertical-align: top;\n",
       "    }\n",
       "\n",
       "    .dataframe thead th {\n",
       "        text-align: right;\n",
       "    }\n",
       "</style>\n",
       "<table border=\"1\" class=\"dataframe\">\n",
       "  <thead>\n",
       "    <tr style=\"text-align: right;\">\n",
       "      <th></th>\n",
       "      <th>Daily / Cumulative</th>\n",
       "      <th>Indicator</th>\n",
       "      <th>Date</th>\n",
       "      <th>Event</th>\n",
       "      <th>region</th>\n",
       "      <th>City</th>\n",
       "      <th>Cases</th>\n",
       "    </tr>\n",
       "  </thead>\n",
       "  <tbody>\n",
       "    <tr>\n",
       "      <th>5493</th>\n",
       "      <td>Cumulative</td>\n",
       "      <td>Critical cases</td>\n",
       "      <td>2020-05-27</td>\n",
       "      <td>NaN</td>\n",
       "      <td>NaN</td>\n",
       "      <td>NaN</td>\n",
       "      <td>NaN</td>\n",
       "    </tr>\n",
       "    <tr>\n",
       "      <th>5494</th>\n",
       "      <td>Cumulative</td>\n",
       "      <td>Critical cases</td>\n",
       "      <td>2020-05-31</td>\n",
       "      <td>NaN</td>\n",
       "      <td>NaN</td>\n",
       "      <td>NaN</td>\n",
       "      <td>NaN</td>\n",
       "    </tr>\n",
       "    <tr>\n",
       "      <th>31112</th>\n",
       "      <td>Cumulative</td>\n",
       "      <td>Critical cases</td>\n",
       "      <td>2020-05-29</td>\n",
       "      <td>NaN</td>\n",
       "      <td>NaN</td>\n",
       "      <td>NaN</td>\n",
       "      <td>NaN</td>\n",
       "    </tr>\n",
       "    <tr>\n",
       "      <th>46802</th>\n",
       "      <td>Cumulative</td>\n",
       "      <td>Critical cases</td>\n",
       "      <td>2020-05-28</td>\n",
       "      <td>NaN</td>\n",
       "      <td>NaN</td>\n",
       "      <td>NaN</td>\n",
       "      <td>NaN</td>\n",
       "    </tr>\n",
       "    <tr>\n",
       "      <th>60505</th>\n",
       "      <td>Cumulative</td>\n",
       "      <td>Critical cases</td>\n",
       "      <td>2020-05-26</td>\n",
       "      <td>NaN</td>\n",
       "      <td>NaN</td>\n",
       "      <td>NaN</td>\n",
       "      <td>NaN</td>\n",
       "    </tr>\n",
       "    <tr>\n",
       "      <th>60506</th>\n",
       "      <td>Cumulative</td>\n",
       "      <td>Critical cases</td>\n",
       "      <td>2020-05-30</td>\n",
       "      <td>NaN</td>\n",
       "      <td>NaN</td>\n",
       "      <td>NaN</td>\n",
       "      <td>NaN</td>\n",
       "    </tr>\n",
       "  </tbody>\n",
       "</table>\n",
       "</div>"
      ],
      "text/plain": [
       "      Daily / Cumulative       Indicator        Date Event region City  Cases\n",
       "5493          Cumulative  Critical cases  2020-05-27   NaN    NaN  NaN    NaN\n",
       "5494          Cumulative  Critical cases  2020-05-31   NaN    NaN  NaN    NaN\n",
       "31112         Cumulative  Critical cases  2020-05-29   NaN    NaN  NaN    NaN\n",
       "46802         Cumulative  Critical cases  2020-05-28   NaN    NaN  NaN    NaN\n",
       "60505         Cumulative  Critical cases  2020-05-26   NaN    NaN  NaN    NaN\n",
       "60506         Cumulative  Critical cases  2020-05-30   NaN    NaN  NaN    NaN"
      ]
     },
     "execution_count": 13,
     "metadata": {},
     "output_type": "execute_result"
    }
   ],
   "source": [
    "df[df.City.isnull()]"
   ]
  },
  {
   "cell_type": "code",
   "execution_count": 14,
   "metadata": {},
   "outputs": [
    {
     "data": {
      "text/html": [
       "<div>\n",
       "<style scoped>\n",
       "    .dataframe tbody tr th:only-of-type {\n",
       "        vertical-align: middle;\n",
       "    }\n",
       "\n",
       "    .dataframe tbody tr th {\n",
       "        vertical-align: top;\n",
       "    }\n",
       "\n",
       "    .dataframe thead th {\n",
       "        text-align: right;\n",
       "    }\n",
       "</style>\n",
       "<table border=\"1\" class=\"dataframe\">\n",
       "  <thead>\n",
       "    <tr style=\"text-align: right;\">\n",
       "      <th></th>\n",
       "      <th>Daily / Cumulative</th>\n",
       "      <th>Indicator</th>\n",
       "      <th>Date</th>\n",
       "      <th>Event</th>\n",
       "      <th>region</th>\n",
       "      <th>City</th>\n",
       "      <th>Cases</th>\n",
       "    </tr>\n",
       "  </thead>\n",
       "  <tbody>\n",
       "    <tr>\n",
       "      <th>5493</th>\n",
       "      <td>Cumulative</td>\n",
       "      <td>Critical cases</td>\n",
       "      <td>2020-05-27</td>\n",
       "      <td>NaN</td>\n",
       "      <td>NaN</td>\n",
       "      <td>NaN</td>\n",
       "      <td>NaN</td>\n",
       "    </tr>\n",
       "    <tr>\n",
       "      <th>5494</th>\n",
       "      <td>Cumulative</td>\n",
       "      <td>Critical cases</td>\n",
       "      <td>2020-05-31</td>\n",
       "      <td>NaN</td>\n",
       "      <td>NaN</td>\n",
       "      <td>NaN</td>\n",
       "      <td>NaN</td>\n",
       "    </tr>\n",
       "    <tr>\n",
       "      <th>31112</th>\n",
       "      <td>Cumulative</td>\n",
       "      <td>Critical cases</td>\n",
       "      <td>2020-05-29</td>\n",
       "      <td>NaN</td>\n",
       "      <td>NaN</td>\n",
       "      <td>NaN</td>\n",
       "      <td>NaN</td>\n",
       "    </tr>\n",
       "    <tr>\n",
       "      <th>46802</th>\n",
       "      <td>Cumulative</td>\n",
       "      <td>Critical cases</td>\n",
       "      <td>2020-05-28</td>\n",
       "      <td>NaN</td>\n",
       "      <td>NaN</td>\n",
       "      <td>NaN</td>\n",
       "      <td>NaN</td>\n",
       "    </tr>\n",
       "    <tr>\n",
       "      <th>60505</th>\n",
       "      <td>Cumulative</td>\n",
       "      <td>Critical cases</td>\n",
       "      <td>2020-05-26</td>\n",
       "      <td>NaN</td>\n",
       "      <td>NaN</td>\n",
       "      <td>NaN</td>\n",
       "      <td>NaN</td>\n",
       "    </tr>\n",
       "    <tr>\n",
       "      <th>60506</th>\n",
       "      <td>Cumulative</td>\n",
       "      <td>Critical cases</td>\n",
       "      <td>2020-05-30</td>\n",
       "      <td>NaN</td>\n",
       "      <td>NaN</td>\n",
       "      <td>NaN</td>\n",
       "      <td>NaN</td>\n",
       "    </tr>\n",
       "  </tbody>\n",
       "</table>\n",
       "</div>"
      ],
      "text/plain": [
       "      Daily / Cumulative       Indicator        Date Event region City  Cases\n",
       "5493          Cumulative  Critical cases  2020-05-27   NaN    NaN  NaN    NaN\n",
       "5494          Cumulative  Critical cases  2020-05-31   NaN    NaN  NaN    NaN\n",
       "31112         Cumulative  Critical cases  2020-05-29   NaN    NaN  NaN    NaN\n",
       "46802         Cumulative  Critical cases  2020-05-28   NaN    NaN  NaN    NaN\n",
       "60505         Cumulative  Critical cases  2020-05-26   NaN    NaN  NaN    NaN\n",
       "60506         Cumulative  Critical cases  2020-05-30   NaN    NaN  NaN    NaN"
      ]
     },
     "execution_count": 14,
     "metadata": {},
     "output_type": "execute_result"
    }
   ],
   "source": [
    "df[df.Cases.isnull()]"
   ]
  },
  {
   "cell_type": "markdown",
   "metadata": {},
   "source": [
    "#### The null values seem to be critical cases in the 6 dates shown above, I'm going to remove them since I don't have any information on what region or city they're in. "
   ]
  },
  {
   "cell_type": "code",
   "execution_count": 15,
   "metadata": {},
   "outputs": [
    {
     "data": {
      "text/plain": [
       "0        False\n",
       "1        False\n",
       "2        False\n",
       "3        False\n",
       "4        False\n",
       "         ...  \n",
       "77982    False\n",
       "77983    False\n",
       "77984    False\n",
       "77985    False\n",
       "77986    False\n",
       "Length: 77987, dtype: bool"
      ]
     },
     "execution_count": 15,
     "metadata": {},
     "output_type": "execute_result"
    }
   ],
   "source": [
    "df.duplicated()"
   ]
  },
  {
   "cell_type": "markdown",
   "metadata": {},
   "source": [
    "#### There seems to be no duplicates in the dataset."
   ]
  },
  {
   "cell_type": "markdown",
   "metadata": {},
   "source": [
    "## Clean Dataset"
   ]
  },
  {
   "cell_type": "markdown",
   "metadata": {},
   "source": [
    "1. Replace NaN's in Event column with 'No Event'.\n",
    "2. Convert Date column to datetime object.\n",
    "3. Drop null columns in [Region, City, Cases].\n",
    "4. Convert Cases column to int datatype.\n",
    "5. Rename 'Daily / Cumulative' to Daily_Cumulative\n",
    "6. Rename region column to Region.\n",
    "7. Sort data by Date (ascending)."
   ]
  },
  {
   "cell_type": "code",
   "execution_count": 16,
   "metadata": {},
   "outputs": [],
   "source": [
    "# Make copy of dataframe.\n",
    "df_clean = df.copy()"
   ]
  },
  {
   "cell_type": "code",
   "execution_count": 17,
   "metadata": {},
   "outputs": [],
   "source": [
    "# 1. Replace NaN's in Event column with 'No Event'.\n",
    "df_clean.Event.fillna('No Event', inplace=True)"
   ]
  },
  {
   "cell_type": "code",
   "execution_count": 18,
   "metadata": {},
   "outputs": [
    {
     "data": {
      "text/plain": [
       "0       2020-05-20\n",
       "1       2020-05-20\n",
       "2       2020-05-20\n",
       "3       2020-05-20\n",
       "4       2020-05-20\n",
       "           ...    \n",
       "77982   2020-07-11\n",
       "77983   2020-07-12\n",
       "77984   2020-07-13\n",
       "77985   2020-07-28\n",
       "77986   2020-08-05\n",
       "Name: Date, Length: 77987, dtype: datetime64[ns]"
      ]
     },
     "execution_count": 18,
     "metadata": {},
     "output_type": "execute_result"
    }
   ],
   "source": [
    "# 2. Convert Date column to datetime object.\n",
    "pd.to_datetime(df_clean.Date)"
   ]
  },
  {
   "cell_type": "code",
   "execution_count": 19,
   "metadata": {},
   "outputs": [],
   "source": [
    "# 3. Drop null columns in [Region, City, Cases].\n",
    "df_clean = df_clean.dropna(subset=['Cases'])"
   ]
  },
  {
   "cell_type": "code",
   "execution_count": 20,
   "metadata": {},
   "outputs": [],
   "source": [
    "# 4. Convert Cases column to int datatype.\n",
    "df_clean.Cases = df_clean.Cases.astype(int)"
   ]
  },
  {
   "cell_type": "code",
   "execution_count": 21,
   "metadata": {},
   "outputs": [],
   "source": [
    "# 5. Rename 'Daily / Cumulative' to Daily_Cumulative\n",
    "df_clean.rename(columns={'Daily / Cumulative': 'Daily_Cumulative'}, inplace=True)"
   ]
  },
  {
   "cell_type": "code",
   "execution_count": 22,
   "metadata": {},
   "outputs": [],
   "source": [
    "# 6. Rename region column to Region.\n",
    "df_clean.rename(columns={'region': 'Region'}, inplace=True)"
   ]
  },
  {
   "cell_type": "code",
   "execution_count": 23,
   "metadata": {},
   "outputs": [],
   "source": [
    "# 7. Sort data by Date (ascending).\n",
    "df_clean.sort_values(by=['Date'], inplace=True, ascending=True)"
   ]
  },
  {
   "cell_type": "code",
   "execution_count": 24,
   "metadata": {},
   "outputs": [
    {
     "name": "stdout",
     "output_type": "stream",
     "text": [
      "<class 'pandas.core.frame.DataFrame'>\n",
      "Int64Index: 77981 entries, 33175 to 77986\n",
      "Data columns (total 7 columns):\n",
      " #   Column            Non-Null Count  Dtype \n",
      "---  ------            --------------  ----- \n",
      " 0   Daily_Cumulative  77981 non-null  object\n",
      " 1   Indicator         77981 non-null  object\n",
      " 2   Date              77981 non-null  object\n",
      " 3   Event             77981 non-null  object\n",
      " 4   Region            77981 non-null  object\n",
      " 5   City              77981 non-null  object\n",
      " 6   Cases             77981 non-null  int64 \n",
      "dtypes: int64(1), object(6)\n",
      "memory usage: 4.8+ MB\n"
     ]
    }
   ],
   "source": [
    "df_clean.info()"
   ]
  },
  {
   "cell_type": "code",
   "execution_count": 25,
   "metadata": {},
   "outputs": [
    {
     "data": {
      "text/html": [
       "<div>\n",
       "<style scoped>\n",
       "    .dataframe tbody tr th:only-of-type {\n",
       "        vertical-align: middle;\n",
       "    }\n",
       "\n",
       "    .dataframe tbody tr th {\n",
       "        vertical-align: top;\n",
       "    }\n",
       "\n",
       "    .dataframe thead th {\n",
       "        text-align: right;\n",
       "    }\n",
       "</style>\n",
       "<table border=\"1\" class=\"dataframe\">\n",
       "  <thead>\n",
       "    <tr style=\"text-align: right;\">\n",
       "      <th></th>\n",
       "      <th>Daily_Cumulative</th>\n",
       "      <th>Indicator</th>\n",
       "      <th>Date</th>\n",
       "      <th>Event</th>\n",
       "      <th>Region</th>\n",
       "      <th>City</th>\n",
       "      <th>Cases</th>\n",
       "    </tr>\n",
       "  </thead>\n",
       "  <tbody>\n",
       "    <tr>\n",
       "      <th>33175</th>\n",
       "      <td>Cumulative</td>\n",
       "      <td>Active cases</td>\n",
       "      <td>2020-03-02</td>\n",
       "      <td>No Event</td>\n",
       "      <td>Eastern Region</td>\n",
       "      <td>Qatif</td>\n",
       "      <td>1</td>\n",
       "    </tr>\n",
       "    <tr>\n",
       "      <th>43256</th>\n",
       "      <td>Daily</td>\n",
       "      <td>Cases</td>\n",
       "      <td>2020-03-02</td>\n",
       "      <td>First case of COVID-19</td>\n",
       "      <td>Eastern Region</td>\n",
       "      <td>Qatif</td>\n",
       "      <td>1</td>\n",
       "    </tr>\n",
       "    <tr>\n",
       "      <th>52843</th>\n",
       "      <td>Cumulative</td>\n",
       "      <td>Active cases</td>\n",
       "      <td>2020-03-02</td>\n",
       "      <td>No Event</td>\n",
       "      <td>Total</td>\n",
       "      <td>Total</td>\n",
       "      <td>1</td>\n",
       "    </tr>\n",
       "    <tr>\n",
       "      <th>5506</th>\n",
       "      <td>Daily</td>\n",
       "      <td>Cases</td>\n",
       "      <td>2020-03-02</td>\n",
       "      <td>First case of COVID-19</td>\n",
       "      <td>Total</td>\n",
       "      <td>Total</td>\n",
       "      <td>1</td>\n",
       "    </tr>\n",
       "    <tr>\n",
       "      <th>34866</th>\n",
       "      <td>Cumulative</td>\n",
       "      <td>Cases</td>\n",
       "      <td>2020-03-02</td>\n",
       "      <td>No Event</td>\n",
       "      <td>Total</td>\n",
       "      <td>Total</td>\n",
       "      <td>1</td>\n",
       "    </tr>\n",
       "    <tr>\n",
       "      <th>...</th>\n",
       "      <td>...</td>\n",
       "      <td>...</td>\n",
       "      <td>...</td>\n",
       "      <td>...</td>\n",
       "      <td>...</td>\n",
       "      <td>...</td>\n",
       "      <td>...</td>\n",
       "    </tr>\n",
       "    <tr>\n",
       "      <th>62010</th>\n",
       "      <td>Cumulative</td>\n",
       "      <td>Cases</td>\n",
       "      <td>2020-08-05</td>\n",
       "      <td>No Event</td>\n",
       "      <td>Najran</td>\n",
       "      <td>Yadamah</td>\n",
       "      <td>192</td>\n",
       "    </tr>\n",
       "    <tr>\n",
       "      <th>62009</th>\n",
       "      <td>Cumulative</td>\n",
       "      <td>Cases</td>\n",
       "      <td>2020-08-05</td>\n",
       "      <td>No Event</td>\n",
       "      <td>Qassim</td>\n",
       "      <td>Al Bukayriyah</td>\n",
       "      <td>417</td>\n",
       "    </tr>\n",
       "    <tr>\n",
       "      <th>62008</th>\n",
       "      <td>Cumulative</td>\n",
       "      <td>Cases</td>\n",
       "      <td>2020-08-05</td>\n",
       "      <td>No Event</td>\n",
       "      <td>Northern Borders</td>\n",
       "      <td>Al Judayyidah</td>\n",
       "      <td>57</td>\n",
       "    </tr>\n",
       "    <tr>\n",
       "      <th>62019</th>\n",
       "      <td>Cumulative</td>\n",
       "      <td>Cases</td>\n",
       "      <td>2020-08-05</td>\n",
       "      <td>No Event</td>\n",
       "      <td>Hail</td>\n",
       "      <td>Bagaa</td>\n",
       "      <td>268</td>\n",
       "    </tr>\n",
       "    <tr>\n",
       "      <th>77986</th>\n",
       "      <td>Cumulative</td>\n",
       "      <td>Critical cases</td>\n",
       "      <td>2020-08-05</td>\n",
       "      <td>No Event</td>\n",
       "      <td>Total</td>\n",
       "      <td>Total</td>\n",
       "      <td>1992</td>\n",
       "    </tr>\n",
       "  </tbody>\n",
       "</table>\n",
       "<p>77981 rows × 7 columns</p>\n",
       "</div>"
      ],
      "text/plain": [
       "      Daily_Cumulative       Indicator        Date                   Event  \\\n",
       "33175       Cumulative    Active cases  2020-03-02                No Event   \n",
       "43256            Daily           Cases  2020-03-02  First case of COVID-19   \n",
       "52843       Cumulative    Active cases  2020-03-02                No Event   \n",
       "5506             Daily           Cases  2020-03-02  First case of COVID-19   \n",
       "34866       Cumulative           Cases  2020-03-02                No Event   \n",
       "...                ...             ...         ...                     ...   \n",
       "62010       Cumulative           Cases  2020-08-05                No Event   \n",
       "62009       Cumulative           Cases  2020-08-05                No Event   \n",
       "62008       Cumulative           Cases  2020-08-05                No Event   \n",
       "62019       Cumulative           Cases  2020-08-05                No Event   \n",
       "77986       Cumulative  Critical cases  2020-08-05                No Event   \n",
       "\n",
       "                 Region           City  Cases  \n",
       "33175    Eastern Region          Qatif      1  \n",
       "43256    Eastern Region          Qatif      1  \n",
       "52843             Total          Total      1  \n",
       "5506              Total          Total      1  \n",
       "34866             Total          Total      1  \n",
       "...                 ...            ...    ...  \n",
       "62010            Najran        Yadamah    192  \n",
       "62009            Qassim  Al Bukayriyah    417  \n",
       "62008  Northern Borders  Al Judayyidah     57  \n",
       "62019              Hail          Bagaa    268  \n",
       "77986             Total          Total   1992  \n",
       "\n",
       "[77981 rows x 7 columns]"
      ]
     },
     "execution_count": 25,
     "metadata": {},
     "output_type": "execute_result"
    }
   ],
   "source": [
    "df_clean"
   ]
  },
  {
   "cell_type": "markdown",
   "metadata": {},
   "source": [
    "## Exploratory Analysis"
   ]
  },
  {
   "cell_type": "markdown",
   "metadata": {},
   "source": [
    "### Univariate Exploration"
   ]
  },
  {
   "cell_type": "markdown",
   "metadata": {},
   "source": [
    "To start off the exploratory analysis, I made two count plots of the Region and Indicator columns. This just shows how much of each of these categorical column have of each value. Since the number of cases differs for each row, it's not an accurate indication of any insights on the dataset. "
   ]
  },
  {
   "cell_type": "markdown",
   "metadata": {},
   "source": [
    "- The Region count plot shows us that there's 13 Saudi regions, in addition to the Total column which makes 14 values. The 3 regions with the highest values in the dataset are Riyadh, Eastern Region and Mecca. "
   ]
  },
  {
   "cell_type": "code",
   "execution_count": 37,
   "metadata": {},
   "outputs": [
    {
     "data": {
      "image/png": "[encoded data removed]",
      "text/plain": [
       "<Figure size 1152x576 with 1 Axes>"
      ]
     },
     "metadata": {},
     "output_type": "display_data"
    }
   ],
   "source": [
    "fig, ax = plt.subplots(nrows=1, figsize = [16,8])\n",
    "sns.set(style='whitegrid')\n",
    "sns.countplot(data = df_clean, x = 'Region', order = df_clean['Region'].value_counts().index).set_title('Countplot of Regions in Saudi Arabia', fontsize = 25)\n",
    "plt.show()"
   ]
  },
  {
   "cell_type": "markdown",
   "metadata": {},
   "source": [
    "- The Indicator count plot shows us that there's 5 indicators, Starting with Cases, Recoveries, Active cases, Mortalities and lastly Critical cases. This seems to be a good indication of Recovery rate being high, and Critical cases being relatively low in the country."
   ]
  },
  {
   "cell_type": "code",
   "execution_count": 38,
   "metadata": {},
   "outputs": [
    {
     "data": {
      "image/png": "[encoded data removed]",
      "text/plain": [
       "<Figure size 1152x576 with 1 Axes>"
      ]
     },
     "metadata": {},
     "output_type": "display_data"
    }
   ],
   "source": [
    "fig, ax = plt.subplots(nrows=1, figsize = [16,8])\n",
    "sns.set(style='whitegrid')\n",
    "sns.countplot(data = df_clean, x = 'Indicator', order = df_clean['Indicator'].value_counts().index).set_title('Countplot of Covid-19 Indicators', fontsize=25)\n",
    "\n",
    "plt.show()"
   ]
  },
  {
   "cell_type": "markdown",
   "metadata": {},
   "source": [
    "### Bivariate Exploration"
   ]
  },
  {
   "cell_type": "markdown",
   "metadata": {},
   "source": [
    "For the bivariate exploration, I made graphs of the total cases and active cases up to the latest date available in the dataset which is the 5th of August."
   ]
  },
  {
   "cell_type": "markdown",
   "metadata": {},
   "source": [
    "- This graph only shows the cities in the Mecca region, as of the 5th of August, Jeddah has the most Active cases of Covid-19, with 3675 cases. Mecca is second and has 1584 cases, Taif has 872. You can also zoom in the graph to see that Hadda with the least active cases only has 1 case."
   ]
  },
  {
   "cell_type": "code",
   "execution_count": null,
   "metadata": {},
   "outputs": [],
   "source": [
    "data = df_clean[df_clean.Region != \"Total\"]\n",
    "data = data[data.Region == \"Mecca\"]\n",
    "data = data[data.Indicator == \"Active cases\"]\n",
    "data = data[data.Date == \"2020-08-05\"]\n",
    "fig = px.bar(data, x=\"City\", y=\"Cases\", title=\"Total Active Cases in Makkah Region - 5th August 2020\", template=\"plotly_white\")\n",
    "fig.update_layout(xaxis={'categoryorder':'total descending'})\n",
    "fig.show()"
   ]
  },
  {
   "cell_type": "markdown",
   "metadata": {},
   "source": [
    "- This graph shows the cumulative number of cases of Covid-19 up until the latest date in the dataset, which is the 5th of August. Similiar to our univariate count plot, the regions in the top 3 spots are Mecca, Eastern Region and Riyadh, although their order differs. Mecca and Eastern Region alone take up half the pie graph, meaning that half the cases in the country up until the 5th of August are in those 2 regions."
   ]
  },
  {
   "cell_type": "code",
   "execution_count": null,
   "metadata": {},
   "outputs": [],
   "source": [
    "data = df_clean.query(\"Daily_Cumulative=='Cumulative'\")\n",
    "data = data.query(\"Indicator=='Cases'\")\n",
    "data = data[data.Date == \"2020-08-05\"]\n",
    "data = data[data.Region != \"Total\"]\n",
    "fig = px.pie(data, values='Cases', names='Region', title='Total Cases by Region - 5th August 2020')\n",
    "fig.show()"
   ]
  },
  {
   "cell_type": "markdown",
   "metadata": {},
   "source": [
    "### Multivariate Exploration"
   ]
  },
  {
   "cell_type": "markdown",
   "metadata": {},
   "source": [
    "I used the Indicator column on various graphs for my multivariate exploration. The Indicator column has 5 values.\n",
    "1. Active cases\n",
    "2. Cases\n",
    "3. Recoveries\n",
    "4. Mortalities\n",
    "5. Critical cases"
   ]
  },
  {
   "cell_type": "markdown",
   "metadata": {},
   "source": [
    "- The following Graph shows the total number of cases for each indicator, from the start of the first case of Covid-19 in the 2nd of March 2020, up until the latest date in the dataset which is the 5th of August. Recovery rates have been higher than the active cases since the 17th of May 2020. We can also see that Mortalities and Critical cases have been relatively low, which is the same as the count plots in the univariate exploration. "
   ]
  },
  {
   "cell_type": "code",
   "execution_count": null,
   "metadata": {},
   "outputs": [],
   "source": [
    "data = df_clean.query(\"City=='Total'\")\n",
    "data = data.query(\"Daily_Cumulative=='Cumulative'\")\n",
    "fig = px.line(data, x=\"Date\", y=\"Cases\", title='Total Cases in Saudi Arabia ', color='Indicator', template=\"plotly_white\")\n",
    "fig.show()"
   ]
  },
  {
   "cell_type": "markdown",
   "metadata": {},
   "source": [
    "- In the dataset, there was an Event column indicating if any event happened like for example the start or end of curfew for some regions or cities. I plotted this with the number of daily cases to see if any event had an impact in the number of daily cases. I noticed a spike in cases after the partial lifting of curfew in all cities except Makkah and after curfew lifted in all regions. The cases have been gradually decreasing since the 7th of July."
   ]
  },
  {
   "cell_type": "code",
   "execution_count": null,
   "metadata": {},
   "outputs": [],
   "source": [
    "data = df_clean.query(\"City=='Total'\")\n",
    "data = data.query(\"Indicator=='Cases'\")\n",
    "data = data.query(\"Daily_Cumulative=='Daily'\")\n",
    "fig = px.line(data, x=\"Date\", y=\"Cases\", title='Daily Cases in Saudi Arabia with Major Events', template=\"plotly_white\")\n",
    "event = data.query(\"Event!='No Event'\")\n",
    "x_val = event.Date\n",
    "y_val = event.Cases\n",
    "\n",
    "hover_text= (event.Event).to_numpy()\n",
    "fig.add_trace(go.Scatter(x=x_val, y=y_val,\n",
    "                    mode='markers',\n",
    "                    name='Event',\n",
    "                    hovertext = hover_text,\n",
    "                    hoverinfo=\"text\",\n",
    "                    showlegend=True))\n",
    "fig.show()"
   ]
  },
  {
   "cell_type": "markdown",
   "metadata": {},
   "source": [
    "- In the following bubble chart are July 2020's cases of Covid-19. The size of the bubble is determined by the number of total cases in each of the 3 indicators which are Cases, Recoveries and Mortalities. The Active cases indicator seems to not be present in July, the Cases indicator seems to have replaced it. The highest recovery count for one day was on the 13th of July 2020 with 7718 recoveries made in one day."
   ]
  },
  {
   "cell_type": "code",
   "execution_count": null,
   "metadata": {},
   "outputs": [],
   "source": [
    "data = df_clean.query(\"City=='Total'\")\n",
    "data = data.query(\"Daily_Cumulative=='Daily'\")\n",
    "fig = px.scatter(data, x=\"Date\", y=\"Cases\", size=\"Cases\", size_max=30, title='Daily Cases in Saudi Arabia in July 2020', color='Indicator', template=\"plotly_white\", range_x=['2020-07-01','2020-07-31'])\n",
    "fig.show()"
   ]
  }
 ],
 "metadata": {
  "kernelspec": {
   "display_name": "Python 3",
   "language": "python",
   "name": "python3"
  },
  "language_info": {
   "codemirror_mode": {
    "name": "ipython",
    "version": 3
   },
   "file_extension": ".py",
   "mimetype": "text/x-python",
   "name": "python",
   "nbconvert_exporter": "python",
   "pygments_lexer": "ipython3",
   "version": "3.7.6"
  }
 },
 "nbformat": 4,
 "nbformat_minor": 4
}
